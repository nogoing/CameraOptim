{
 "cells": [
  {
   "cell_type": "code",
   "execution_count": 102,
   "source": [
    "import torch\n",
    "import numpy as np\n",
    "\n",
    "from co3d.dataset.dataloader_zoo import dataloader_zoo\n",
    "from co3d.dataset.dataset_zoo import dataset_zoo"
   ],
   "outputs": [],
   "metadata": {}
  },
  {
   "cell_type": "code",
   "execution_count": 27,
   "source": [
    "category = \"apple\"\n",
    "task = \"singlesequence\"\n",
    "single_sequence_id = 0      # 0 또는 1\n",
    "\n",
    "s_datasets = dataset_zoo(\n",
    "        category=category,\n",
    "        assert_single_seq=task == \"singlesequence\",\n",
    "        dataset_name=f\"co3d_{task}\",\n",
    "        test_on_train=False,\n",
    "        load_point_clouds=False,\n",
    "        test_restrict_sequence_id=single_sequence_id,\n",
    "    )"
   ],
   "outputs": [
    {
     "output_type": "stream",
     "name": "stdout",
     "text": [
      "set_names_mapping :{'train': ['test_known'], 'val': ['test_known', 'test_unseen'], 'test': ['test_known', 'test_unseen']}\n",
      "???????\n",
      " ['189_20393_38136', '110_13051_23361'] \n",
      "\n",
      "Dataset :  train\n",
      "subsets :  ['test_known']\n",
      "Loading Co3D frames from ../dataset/CO3D/apple/frame_annotations.jgz.\n",
      "Loading Co3D sequences from ../dataset/CO3D/apple/sequence_annotations.jgz.\n",
      "Loading Co3D subset lists from ../dataset/CO3D/apple/set_lists.json.\n",
      "Removing images with empty masks.\n",
      "... filtered 36572 -> 35025\n",
      "Limitting Co3D dataset to the '['test_known']' subsets.\n",
      "pick_sequence: ['189_20393_38136']\n",
      "... filtered 40 -> 1\n",
      "Taking max 100 per sequence.\n",
      "... filtered 81 -> 81\n",
      "CO3D Dataset #frames=81\n",
      "Dataset :  val\n",
      "subsets :  ['test_known', 'test_unseen']\n",
      "Loading Co3D frames from ../dataset/CO3D/apple/frame_annotations.jgz.\n",
      "Loading Co3D sequences from ../dataset/CO3D/apple/sequence_annotations.jgz.\n",
      "Loading Co3D subset lists from ../dataset/CO3D/apple/set_lists.json.\n",
      "Removing images with empty masks.\n",
      "... filtered 36572 -> 35025\n",
      "Limitting Co3D dataset to the '['test_known', 'test_unseen']' subsets.\n",
      "pick_sequence: ['189_20393_38136']\n",
      "... filtered 40 -> 1\n",
      "CO3D Dataset #frames=102\n",
      "Dataset :  test\n",
      "subsets :  ['test_known', 'test_unseen']\n",
      "Loading Co3D frames from ../dataset/CO3D/apple/frame_annotations.jgz.\n",
      "Loading Co3D sequences from ../dataset/CO3D/apple/sequence_annotations.jgz.\n",
      "Loading Co3D subset lists from ../dataset/CO3D/apple/set_lists.json.\n",
      "Removing images with empty masks.\n",
      "... filtered 36572 -> 35025\n",
      "Limitting Co3D dataset to the '['test_known', 'test_unseen']' subsets.\n",
      "pick_sequence: ['189_20393_38136']\n",
      "... filtered 40 -> 1\n",
      "CO3D Dataset #frames=102\n"
     ]
    }
   ],
   "metadata": {}
  },
  {
   "cell_type": "code",
   "execution_count": 105,
   "source": [
    "category = \"apple\"\n",
    "task = \"multisequence\"\n",
    "\n",
    "m_datasets = dataset_zoo(\n",
    "        category=category,\n",
    "        assert_single_seq=task == \"singlesequence\",\n",
    "        dataset_name=f\"co3d_{task}\",\n",
    "        test_on_train=False,\n",
    "        load_point_clouds=False,\n",
    "    )"
   ],
   "outputs": [
    {
     "output_type": "stream",
     "name": "stdout",
     "text": [
      "set_names_mapping :{'train': ['train_known'], 'val': ['test_known', 'test_unseen', 'train_known', 'train_unseen'], 'test': ['test_known', 'test_unseen', 'train_known', 'train_unseen']}\n"
     ]
    },
    {
     "output_type": "error",
     "ename": "TypeError",
     "evalue": "join() argument must be str, bytes, or os.PathLike object, not 'list'",
     "traceback": [
      "\u001b[0;31m---------------------------------------------------------------------------\u001b[0m",
      "\u001b[0;31mTypeError\u001b[0m                                 Traceback (most recent call last)",
      "\u001b[0;32m/tmp/ipykernel_101984/509490480.py\u001b[0m in \u001b[0;36m<module>\u001b[0;34m\u001b[0m\n\u001b[1;32m      2\u001b[0m \u001b[0mtask\u001b[0m \u001b[0;34m=\u001b[0m \u001b[0;34m\"multisequence\"\u001b[0m\u001b[0;34m\u001b[0m\u001b[0;34m\u001b[0m\u001b[0m\n\u001b[1;32m      3\u001b[0m \u001b[0;34m\u001b[0m\u001b[0m\n\u001b[0;32m----> 4\u001b[0;31m m_datasets = dataset_zoo(\n\u001b[0m\u001b[1;32m      5\u001b[0m         \u001b[0mcategory\u001b[0m\u001b[0;34m=\u001b[0m\u001b[0mcategory\u001b[0m\u001b[0;34m,\u001b[0m\u001b[0;34m\u001b[0m\u001b[0;34m\u001b[0m\u001b[0m\n\u001b[1;32m      6\u001b[0m         \u001b[0massert_single_seq\u001b[0m\u001b[0;34m=\u001b[0m\u001b[0mtask\u001b[0m \u001b[0;34m==\u001b[0m \u001b[0;34m\"singlesequence\"\u001b[0m\u001b[0;34m,\u001b[0m\u001b[0;34m\u001b[0m\u001b[0;34m\u001b[0m\u001b[0m\n",
      "\u001b[0;32m/mnt/srv/home/dlpc.1100/nerformer/co3d/dataset/dataset_zoo.py\u001b[0m in \u001b[0;36mdataset_zoo\u001b[0;34m(dataset_name, dataset_root, category, limit_to, limit_sequences_to, n_frames_per_sequence, test_on_train, load_point_clouds, mask_images, mask_depths, restrict_sequence_name, test_restrict_sequence_id, assert_single_seq)\u001b[0m\n\u001b[1;32m    109\u001b[0m         \u001b[0;31m# load the evaluation batches\u001b[0m\u001b[0;34m\u001b[0m\u001b[0;34m\u001b[0m\u001b[0;34m\u001b[0m\u001b[0m\n\u001b[1;32m    110\u001b[0m         \u001b[0mtask\u001b[0m \u001b[0;34m=\u001b[0m \u001b[0mdataset_name\u001b[0m\u001b[0;34m.\u001b[0m\u001b[0msplit\u001b[0m\u001b[0;34m(\u001b[0m\u001b[0;34m\"_\"\u001b[0m\u001b[0;34m)\u001b[0m\u001b[0;34m[\u001b[0m\u001b[0;34m-\u001b[0m\u001b[0;36m1\u001b[0m\u001b[0;34m]\u001b[0m\u001b[0;34m\u001b[0m\u001b[0;34m\u001b[0m\u001b[0m\n\u001b[0;32m--> 111\u001b[0;31m         batch_indices_path = os.path.join(\n\u001b[0m\u001b[1;32m    112\u001b[0m             \u001b[0mdataset_root\u001b[0m\u001b[0;34m,\u001b[0m\u001b[0;34m\u001b[0m\u001b[0;34m\u001b[0m\u001b[0m\n\u001b[1;32m    113\u001b[0m             \u001b[0mcategory\u001b[0m\u001b[0;34m,\u001b[0m\u001b[0;34m\u001b[0m\u001b[0;34m\u001b[0m\u001b[0m\n",
      "\u001b[0;32m~/anaconda3/envs/pytorch3d/lib/python3.8/posixpath.py\u001b[0m in \u001b[0;36mjoin\u001b[0;34m(a, *p)\u001b[0m\n\u001b[1;32m     88\u001b[0m                 \u001b[0mpath\u001b[0m \u001b[0;34m+=\u001b[0m \u001b[0msep\u001b[0m \u001b[0;34m+\u001b[0m \u001b[0mb\u001b[0m\u001b[0;34m\u001b[0m\u001b[0;34m\u001b[0m\u001b[0m\n\u001b[1;32m     89\u001b[0m     \u001b[0;32mexcept\u001b[0m \u001b[0;34m(\u001b[0m\u001b[0mTypeError\u001b[0m\u001b[0;34m,\u001b[0m \u001b[0mAttributeError\u001b[0m\u001b[0;34m,\u001b[0m \u001b[0mBytesWarning\u001b[0m\u001b[0;34m)\u001b[0m\u001b[0;34m:\u001b[0m\u001b[0;34m\u001b[0m\u001b[0;34m\u001b[0m\u001b[0m\n\u001b[0;32m---> 90\u001b[0;31m         \u001b[0mgenericpath\u001b[0m\u001b[0;34m.\u001b[0m\u001b[0m_check_arg_types\u001b[0m\u001b[0;34m(\u001b[0m\u001b[0;34m'join'\u001b[0m\u001b[0;34m,\u001b[0m \u001b[0ma\u001b[0m\u001b[0;34m,\u001b[0m \u001b[0;34m*\u001b[0m\u001b[0mp\u001b[0m\u001b[0;34m)\u001b[0m\u001b[0;34m\u001b[0m\u001b[0;34m\u001b[0m\u001b[0m\n\u001b[0m\u001b[1;32m     91\u001b[0m         \u001b[0;32mraise\u001b[0m\u001b[0;34m\u001b[0m\u001b[0;34m\u001b[0m\u001b[0m\n\u001b[1;32m     92\u001b[0m     \u001b[0;32mreturn\u001b[0m \u001b[0mpath\u001b[0m\u001b[0;34m\u001b[0m\u001b[0;34m\u001b[0m\u001b[0m\n",
      "\u001b[0;32m~/anaconda3/envs/pytorch3d/lib/python3.8/genericpath.py\u001b[0m in \u001b[0;36m_check_arg_types\u001b[0;34m(funcname, *args)\u001b[0m\n\u001b[1;32m    150\u001b[0m             \u001b[0mhasbytes\u001b[0m \u001b[0;34m=\u001b[0m \u001b[0;32mTrue\u001b[0m\u001b[0;34m\u001b[0m\u001b[0;34m\u001b[0m\u001b[0m\n\u001b[1;32m    151\u001b[0m         \u001b[0;32melse\u001b[0m\u001b[0;34m:\u001b[0m\u001b[0;34m\u001b[0m\u001b[0;34m\u001b[0m\u001b[0m\n\u001b[0;32m--> 152\u001b[0;31m             raise TypeError(f'{funcname}() argument must be str, bytes, or '\n\u001b[0m\u001b[1;32m    153\u001b[0m                             f'os.PathLike object, not {s.__class__.__name__!r}') from None\n\u001b[1;32m    154\u001b[0m     \u001b[0;32mif\u001b[0m \u001b[0mhasstr\u001b[0m \u001b[0;32mand\u001b[0m \u001b[0mhasbytes\u001b[0m\u001b[0;34m:\u001b[0m\u001b[0;34m\u001b[0m\u001b[0;34m\u001b[0m\u001b[0m\n",
      "\u001b[0;31mTypeError\u001b[0m: join() argument must be str, bytes, or os.PathLike object, not 'list'"
     ]
    }
   ],
   "metadata": {}
  },
  {
   "cell_type": "code",
   "execution_count": 108,
   "source": [
    "m_datasets[\"train\"].__len__()       # train_known"
   ],
   "outputs": [
    {
     "output_type": "execute_result",
     "data": {
      "text/plain": [
       "24625"
      ]
     },
     "metadata": {},
     "execution_count": 108
    }
   ],
   "metadata": {}
  },
  {
   "cell_type": "code",
   "execution_count": 110,
   "source": [
    "print(m_datasets[\"test\"].__len__())     # train_known + train_unseen + test_known + test_unseen\n",
    "\n",
    "print(m_datasets[\"test\"].__len__() - m_datasets[\"train\"].__len__())     # train_unseen + test_knwon + test_unseen"
   ],
   "outputs": [
    {
     "output_type": "stream",
     "name": "stdout",
     "text": [
      "35025\n",
      "10400\n"
     ]
    }
   ],
   "metadata": {}
  },
  {
   "cell_type": "code",
   "execution_count": 113,
   "source": [
    "m_datasets[\"train\"]"
   ],
   "outputs": [
    {
     "output_type": "execute_result",
     "data": {
      "text/plain": [
       "Co3dDataset(frame_annotations_file='../dataset/CO3D/apple/frame_annotations.jgz', sequence_annotations_file='../dataset/CO3D/apple/sequence_annotations.jgz', subset_lists_file='../dataset/CO3D/apple/set_lists.json', subsets=['train_known'], limit_to=-1, limit_sequences_to=-1, pick_sequence=[], exclude_sequence=[], limit_category_to=[], dataset_root='../dataset/CO3D', load_images=True, load_depths=True, load_depth_masks=True, load_masks=True, load_point_clouds=False, max_points=0, mask_images=False, mask_depths=False, image_height=800, image_width=800, box_crop=True, box_crop_mask_thr=0.4, box_crop_context=0.3, remove_empty_masks=True, n_frames_per_sequence=-1, seed=0, eval_batches=None)"
      ]
     },
     "metadata": {},
     "execution_count": 113
    }
   ],
   "metadata": {}
  },
  {
   "cell_type": "code",
   "execution_count": 132,
   "source": [
    "batch_size = 5\n",
    "batch_num_per_seq = 10\n",
    "\n",
    "m_dataloaders = dataloader_zoo(\n",
    "        m_datasets,\n",
    "        batch_size=5,\n",
    "        dataset_name=f\"co3d_multisequence\",\n",
    "        images_per_seq_options=[batch_size * batch_num_per_seq],\n",
    "    )"
   ],
   "outputs": [
    {
     "output_type": "stream",
     "name": "stdout",
     "text": [
      "dataset_set : train, dataset : CO3D Dataset #frames=24625, batch_size : 5, dataset_len : 1000, dataset_len_val : 1, images_per_seq_options : [5, 5, 5, 5, 5, 5, 5, 5, 5, 5]\n",
      "dataset_set : val, dataset : CO3D Dataset #frames=35025, batch_size : 5, dataset_len : 1000, dataset_len_val : 1, images_per_seq_options : [5, 5, 5, 5, 5, 5, 5, 5, 5, 5]\n",
      "dataset_set : test, dataset : CO3D Dataset #frames=35025, batch_size : 5, dataset_len : 1000, dataset_len_val : 1, images_per_seq_options : [5, 5, 5, 5, 5, 5, 5, 5, 5, 5]\n"
     ]
    }
   ],
   "metadata": {}
  },
  {
   "cell_type": "code",
   "execution_count": 133,
   "source": [
    "train_loader = m_dataloaders[\"train\"]\n",
    "val_loader = m_dataloaders[\"val\"]\n",
    "test_loader = m_dataloaders[\"test\"]"
   ],
   "outputs": [],
   "metadata": {}
  },
  {
   "cell_type": "code",
   "execution_count": 134,
   "source": [
    "len(train_loader)"
   ],
   "outputs": [
    {
     "output_type": "execute_result",
     "data": {
      "text/plain": [
       "1000"
      ]
     },
     "metadata": {},
     "execution_count": 134
    }
   ],
   "metadata": {}
  },
  {
   "cell_type": "code",
   "execution_count": 28,
   "source": [
    "train_frame = next(iter(train_loader))\n",
    "val_frame = next(iter(val_loader))\n",
    "test_frame = next(iter(test_loader))"
   ],
   "outputs": [],
   "metadata": {}
  },
  {
   "cell_type": "code",
   "execution_count": 17,
   "source": [
    "train_frame.image_rgb.shape"
   ],
   "outputs": [
    {
     "output_type": "execute_result",
     "data": {
      "text/plain": [
       "torch.Size([1, 3, 800, 800])"
      ]
     },
     "metadata": {},
     "execution_count": 17
    }
   ],
   "metadata": {}
  },
  {
   "cell_type": "code",
   "execution_count": 18,
   "source": [
    "val_frame.image_rgb.shape"
   ],
   "outputs": [
    {
     "output_type": "execute_result",
     "data": {
      "text/plain": [
       "torch.Size([1, 3, 800, 800])"
      ]
     },
     "metadata": {},
     "execution_count": 18
    }
   ],
   "metadata": {}
  },
  {
   "cell_type": "code",
   "execution_count": 19,
   "source": [
    "test_frame.image_rgb.shape"
   ],
   "outputs": [
    {
     "output_type": "execute_result",
     "data": {
      "text/plain": [
       "torch.Size([6, 3, 800, 800])"
      ]
     },
     "metadata": {},
     "execution_count": 19
    }
   ],
   "metadata": {}
  },
  {
   "cell_type": "code",
   "execution_count": 144,
   "source": [
    "train_frame = next(iter(train_loader))\n",
    "\n",
    "train_frame.image_path"
   ],
   "outputs": [
    {
     "output_type": "execute_result",
     "data": {
      "text/plain": [
       "['../dataset/CO3D/apple/110_13064_25256/images/frame000075.jpg',\n",
       " '../dataset/CO3D/apple/110_13064_25256/images/frame000047.jpg',\n",
       " '../dataset/CO3D/apple/110_13064_25256/images/frame000050.jpg',\n",
       " '../dataset/CO3D/apple/110_13064_25256/images/frame000056.jpg',\n",
       " '../dataset/CO3D/apple/110_13064_25256/images/frame000069.jpg']"
      ]
     },
     "metadata": {},
     "execution_count": 144
    }
   ],
   "metadata": {}
  },
  {
   "cell_type": "code",
   "execution_count": 95,
   "source": [
    "# train_loader에서 리턴하는 아이템이 모두 동일한 시퀀스의 프레임인지 확인\n",
    "\n",
    "for data_frame in tqdm(train_loader):\n",
    "    image_paths = data_frame.image_path\n",
    "    seq_names = [image_path.split('/')[4] for image_path in image_paths]\n",
    "\n",
    "    seq_names_uniq = list(set(seq_names))\n",
    "    if len(seq_names_uniq) != 1:\n",
    "        print(\"다른 시퀀스의 프레임을 같이 리턴함...\")\n",
    "        break"
   ],
   "outputs": [
    {
     "output_type": "stream",
     "name": "stderr",
     "text": [
      "  8%|▊         | 84/1000 [01:53<20:33,  1.35s/it]/mnt/srv/home/dlpc.1100/nerformer/co3d/dataset/scene_batch_sampler.py:68: UserWarning: Batch size smaller than self.batch_size! (This is fine for experiments with a single scene and viewpooling)\n",
      "  warnings.warn(\n",
      "100%|██████████| 1000/1000 [16:54<00:00,  1.01s/it]\n"
     ]
    }
   ],
   "metadata": {}
  },
  {
   "cell_type": "code",
   "execution_count": 101,
   "source": [
    "seq_frames_num"
   ],
   "outputs": [
    {
     "output_type": "execute_result",
     "data": {
      "text/plain": [
       "{'45_2362_6728': 10,\n",
       " '220_23198_47985': 10,\n",
       " '308_32483_61126': 25,\n",
       " '41_1964_6048': 15,\n",
       " '39_1771_5181': 10,\n",
       " '198_21308_44513': 20,\n",
       " '220_23217_49295': 35,\n",
       " '363_38324_72981': 5,\n",
       " '45_2380_6820': 20,\n",
       " '41_1966_5872': 10,\n",
       " '210_22191_45413': 15,\n",
       " '339_35194_63840': 20,\n",
       " '39_1776_5186': 25,\n",
       " '43_2155_6526': 45,\n",
       " '239_25238_50942': 20,\n",
       " '47_2689_7493': 15,\n",
       " '198_21305_44480': 35,\n",
       " '353_37239_69784': 25,\n",
       " '43_2132_6344': 10,\n",
       " '363_38341_73276': 10,\n",
       " '43_2160_6537': 15,\n",
       " '39_1814_5254': 20,\n",
       " '350_36969_69347': 40,\n",
       " '308_32475_60385': 20,\n",
       " '239_25243_51256': 25,\n",
       " '161_17679_33270': 20,\n",
       " '210_22201_45657': 15,\n",
       " '354_37593_69712': 10,\n",
       " '339_35123_63240': 15,\n",
       " '351_37039_66934': 15,\n",
       " '43_2183_6564': 15,\n",
       " '353_37215_69638': 25,\n",
       " '229_24090_49263': 25,\n",
       " '272_29078_57798': 20,\n",
       " '272_29074_57381': 35,\n",
       " '210_22206_45753': 20,\n",
       " '272_29066_56725': 25,\n",
       " '12_108_643': 15,\n",
       " '43_2157_6531': 25,\n",
       " '210_22204_46641': 15,\n",
       " '39_1773_5183': 20,\n",
       " '41_1933_5579': 25,\n",
       " '341_35529_65357': 10,\n",
       " '41_1926_5864': 20,\n",
       " '363_38421_73589': 10,\n",
       " '120_14065_29048': 30,\n",
       " '350_36862_69110': 15,\n",
       " '45_2395_6967': 10,\n",
       " '103_12148_21353': 15,\n",
       " '198_21284_41173': 15,\n",
       " '338_34901_63372': 5,\n",
       " '41_1944_5742': 20,\n",
       " '45_2372_6815': 20,\n",
       " '39_1807_5236': 15,\n",
       " '43_2174_6554': 25,\n",
       " '360_37852_72452': 30,\n",
       " '47_2681_7386': 20,\n",
       " '363_38547_73996': 10,\n",
       " '220_23200_48755': 30,\n",
       " '12_97_334': 25,\n",
       " '290_30786_59544': 10,\n",
       " '171_18573_33846': 25,\n",
       " '110_13053_23637': 30,\n",
       " '14_203_1170': 5,\n",
       " '39_1809_5240': 10,\n",
       " '360_37867_72656': 15,\n",
       " '41_1916_5463': 15,\n",
       " '43_2169_6549': 15,\n",
       " '210_22192_45289': 15,\n",
       " '39_1802_5230': 30,\n",
       " '363_38452_73784': 25,\n",
       " '189_20379_35626': 15,\n",
       " '220_23214_48905': 15,\n",
       " '350_36676_67000': 4,\n",
       " '39_1797_5223': 40,\n",
       " '210_22197_44976': 10,\n",
       " '39_1780_5197': 20,\n",
       " '41_1928_5845': 20,\n",
       " '39_1810_5239': 5,\n",
       " '350_36753_68587': 10,\n",
       " '43_2162_6539': 10,\n",
       " '110_13057_23420': 15,\n",
       " '308_32479_60545': 25,\n",
       " '43_2152_6520': 15,\n",
       " '346_36040_66072': 5,\n",
       " '210_22203_45710': 15,\n",
       " '342_35827_65599': 15,\n",
       " '45_2364_6806': 5,\n",
       " '39_1765_5170': 15,\n",
       " '43_2188_6569': 10,\n",
       " '43_2213_6600': 5,\n",
       " '272_29064_56962': 15,\n",
       " '39_1812_5251': 25,\n",
       " '350_36658_68098': 30,\n",
       " '342_35828_65628': 10,\n",
       " '129_14948_30340': 20,\n",
       " '350_36890_69308': 20,\n",
       " '353_37213_69709': 15,\n",
       " '45_2378_6819': 30,\n",
       " '41_1950_5738': 20,\n",
       " '189_20403_39418': 15,\n",
       " '339_35208_63979': 15,\n",
       " '39_1760_5220': 15,\n",
       " '220_23193_47359': 25,\n",
       " '96_10750_18972': 20,\n",
       " '41_1963_5867': 20,\n",
       " '43_2208_6595': 10,\n",
       " '151_16774_32223': 15,\n",
       " '353_37195_69929': 15,\n",
       " '189_20394_38442': 15,\n",
       " '45_2374_6817': 10,\n",
       " '351_37090_68533': 20,\n",
       " '210_22214_46391': 10,\n",
       " '47_2600_7346': 10,\n",
       " '161_17687_33589': 20,\n",
       " '198_21292_42377': 25,\n",
       " '41_1965_5866': 25,\n",
       " '41_1949_5730': 15,\n",
       " '45_2370_6811': 15,\n",
       " '363_38344_73054': 20,\n",
       " '39_1813_5253': 20,\n",
       " '171_18574_33930': 5,\n",
       " '43_2164_6543': 10,\n",
       " '220_23222_49583': 5,\n",
       " '189_20402_39322': 20,\n",
       " '353_37326_70219': 10,\n",
       " '39_1749_5095': 20,\n",
       " '41_1940_5843': 20,\n",
       " '39_1769_5179': 15,\n",
       " '41_1951_5846': 15,\n",
       " '272_29059_56449': 30,\n",
       " '360_37862_72577': 10,\n",
       " '43_2186_6567': 5,\n",
       " '189_20378_35619': 15,\n",
       " '43_2140_6527': 5,\n",
       " '39_1775_5185': 15,\n",
       " '363_38684_74573': 40,\n",
       " '189_20387_37543': 15,\n",
       " '350_36623_66857': 5,\n",
       " '39_1806_5235': 10,\n",
       " '138_15853_30823': 20,\n",
       " '220_23201_48799': 5,\n",
       " '39_1768_5176': 25,\n",
       " '171_18655_34299': 20,\n",
       " '254_27349_54239': 20,\n",
       " '272_29079_57799': 20,\n",
       " '43_2207_6594': 20,\n",
       " '308_32469_60183': 20,\n",
       " '45_2408_7011': 15,\n",
       " '41_1952_5736': 25,\n",
       " '41_1921_5721': 10,\n",
       " '43_2163_6541': 5,\n",
       " '43_2178_6558': 10,\n",
       " '41_1973_6050': 15,\n",
       " '45_2400_6969': 20,\n",
       " '110_13060_23672': 15,\n",
       " '41_1946_5667': 30,\n",
       " '272_29071_57197': 10,\n",
       " '171_18641_34258': 25,\n",
       " '339_35032_62627': 10,\n",
       " '43_2146_6544': 15,\n",
       " '308_32480_61505': 5,\n",
       " '360_37864_72648': 10,\n",
       " '39_1808_5237': 20,\n",
       " '220_23212_48846': 20,\n",
       " '39_1772_5182': 15,\n",
       " '41_1941_5802': 5,\n",
       " '290_30782_59528': 15,\n",
       " '339_35165_63666': 10,\n",
       " '254_27355_54486': 10,\n",
       " '47_2686_7555': 15,\n",
       " '189_20385_37498': 25,\n",
       " '290_30758_58511': 5,\n",
       " '198_21310_44514': 10,\n",
       " '45_2363_6807': 10,\n",
       " '272_29054_56195': 25,\n",
       " '239_25248_51997': 25,\n",
       " '353_37588_70765': 30,\n",
       " '43_2177_6557': 10,\n",
       " '41_1957_5880': 10,\n",
       " '220_23216_48912': 25,\n",
       " '341_35570_65531': 15,\n",
       " '12_107_718': 5,\n",
       " '43_2158_6532': 15,\n",
       " '43_2147_6497': 25,\n",
       " '39_1766_5172': 10,\n",
       " '290_30764_58570': 15,\n",
       " '43_2172_6552': 20,\n",
       " '350_36726_68504': 10,\n",
       " '339_35000_62371': 5,\n",
       " '353_37406_70593': 10,\n",
       " '39_1761_5221': 10,\n",
       " '346_36133_66705': 25,\n",
       " '43_2153_6528': 20,\n",
       " '360_37827_72460': 15,\n",
       " '47_2599_7341': 15,\n",
       " '189_20396_38464': 30,\n",
       " '189_20389_37571': 15,\n",
       " '363_38308_73028': 5,\n",
       " '39_1751_5098': 25,\n",
       " '189_20373_35768': 10,\n",
       " '350_36824_69019': 15,\n",
       " '39_1805_5234': 10,\n",
       " '43_2142_6483': 10,\n",
       " '351_37029_67695': 10,\n",
       " '12_101_396': 15,\n",
       " '210_22190_45287': 15,\n",
       " '39_1804_5233': 10,\n",
       " '360_37856_72450': 5,\n",
       " '45_2401_6970': 30,\n",
       " '110_13052_23173': 25,\n",
       " '342_35798_64791': 10,\n",
       " '364_38966_74997': 10,\n",
       " '351_37048_67462': 15,\n",
       " '39_1764_5250': 15,\n",
       " '39_1755_5190': 5,\n",
       " '350_36631_67897': 20,\n",
       " '363_38335_72833': 5,\n",
       " '39_1815_5296': 15,\n",
       " '161_17681_33529': 10,\n",
       " '363_38360_73424': 10,\n",
       " '43_2171_6635': 15,\n",
       " '39_1757_5191': 5,\n",
       " '43_2154_6524': 10,\n",
       " '342_35810_65026': 15,\n",
       " '39_1794_5216': 15,\n",
       " '290_30763_58533': 5,\n",
       " '12_90_489': 10,\n",
       " '354_37648_70069': 25,\n",
       " '41_1975_6051': 10,\n",
       " '39_1762_5241': 5,\n",
       " '41_1943_5674': 30,\n",
       " '43_2190_6571': 15,\n",
       " '363_38418_73448': 15,\n",
       " '43_2212_6599': 5,\n",
       " '198_21286_41434': 10,\n",
       " '43_2197_6636': 15,\n",
       " '110_13054_23182': 10,\n",
       " '351_37009_66846': 5,\n",
       " '353_37383_70344': 10,\n",
       " '171_18615_34188': 30,\n",
       " '229_24089_48727': 20,\n",
       " '254_27364_55523': 10,\n",
       " '341_35473_64945': 10,\n",
       " '43_2181_6561': 25,\n",
       " '41_1971_6049': 15,\n",
       " '360_37810_71597': 10,\n",
       " '171_18644_34265': 15,\n",
       " '171_18639_34253': 10,\n",
       " '39_1796_5219': 25,\n",
       " '47_2692_7551': 25,\n",
       " '43_2191_6572': 20,\n",
       " '272_29072_57338': 20,\n",
       " '43_2211_6598': 20,\n",
       " '350_36822_69151': 10,\n",
       " '43_2159_6535': 20,\n",
       " '346_36139_66752': 20,\n",
       " '43_2167_6547': 15,\n",
       " '41_1968_5871': 10,\n",
       " '339_35245_64147': 15,\n",
       " '272_29077_57710': 10,\n",
       " '171_18653_34307': 5,\n",
       " '43_2135_6516': 15,\n",
       " '350_36638_68633': 25,\n",
       " '360_37857_72528': 5,\n",
       " '39_1748_5157': 10,\n",
       " '180_19473_35412': 25,\n",
       " '41_1918_5543': 10,\n",
       " '341_35484_65160': 10,\n",
       " '339_34991_62322': 5,\n",
       " '198_21283_41063': 15,\n",
       " '45_2384_6835': 15,\n",
       " '351_37011_67616': 15,\n",
       " '308_32476_61130': 5,\n",
       " '39_1770_5180': 5,\n",
       " '110_13064_25256': 15,\n",
       " '339_35239_64250': 10,\n",
       " '341_35530_65361': 10,\n",
       " '45_2365_6809': 5,\n",
       " '333_33901_61867': 10,\n",
       " '39_1752_5101': 5,\n",
       " '353_37511_70600': 10,\n",
       " '41_1976_5959': 15,\n",
       " '363_38479_73965': 15,\n",
       " '171_18671_34825': 15,\n",
       " '360_37836_71984': 15,\n",
       " '350_36798_68925': 20,\n",
       " '41_1945_5678': 5,\n",
       " '120_14067_29180': 15,\n",
       " '341_35589_65590': 20,\n",
       " '360_37850_72203': 10,\n",
       " '41_1948_5734': 15,\n",
       " '161_17685_33706': 10,\n",
       " '43_2131_6479': 15,\n",
       " '254_27343_53494': 15,\n",
       " '45_2407_7009': 15,\n",
       " '39_1801_5229': 20,\n",
       " '41_1979_6056': 10,\n",
       " '41_1977_6052': 15,\n",
       " '45_2381_6957': 5,\n",
       " '254_27342_53960': 10,\n",
       " '341_35464_64848': 10,\n",
       " '360_37818_71431': 10,\n",
       " '41_1939_6047': 10,\n",
       " '45_2379_6799': 5,\n",
       " '43_2170_6550': 5,\n",
       " '138_15854_31100': 10,\n",
       " '39_1778_5192': 10,\n",
       " '308_32478_60541': 5,\n",
       " '45_2366_6745': 15,\n",
       " '39_1753_5166': 5,\n",
       " '254_27360_55518': 5,\n",
       " '341_35406_64622': 5,\n",
       " '272_29080_57804': 10,\n",
       " '43_2123_6510': 10,\n",
       " '43_2180_6560': 15,\n",
       " '360_37809_71286': 5,\n",
       " '43_2210_6597': 5,\n",
       " '45_2399_6968': 10,\n",
       " '363_38506_73861': 10,\n",
       " '364_38930_74950': 10,\n",
       " '43_2151_6514': 5,\n",
       " '41_1953_5798': 5,\n",
       " '189_20399_39001': 5,\n",
       " '151_16768_31681': 5,\n",
       " '161_17678_33238': 5,\n",
       " '171_18647_34269': 5,\n",
       " '351_37051_68616': 10,\n",
       " '39_1799_5231': 5,\n",
       " '43_2179_6559': 5,\n",
       " '339_35069_63069': 5,\n",
       " '353_37348_70263': 5,\n",
       " '41_1960_5850': 5,\n",
       " '290_30768_58582': 5,\n",
       " '198_21294_42550': 5,\n",
       " '39_1767_5177': 5}"
      ]
     },
     "metadata": {},
     "execution_count": 101
    }
   ],
   "metadata": {}
  },
  {
   "cell_type": "code",
   "execution_count": 149,
   "source": [
    "test_frame = next(iter(test_loader))\n",
    "\n",
    "test_frame.image_path"
   ],
   "outputs": [
    {
     "output_type": "execute_result",
     "data": {
      "text/plain": [
       "['../dataset/CO3D/apple/220_23188_47084/images/frame000044.jpg',\n",
       " '../dataset/CO3D/apple/220_23188_47084/images/frame000053.jpg',\n",
       " '../dataset/CO3D/apple/220_23188_47084/images/frame000094.jpg',\n",
       " '../dataset/CO3D/apple/220_23188_47084/images/frame000061.jpg',\n",
       " '../dataset/CO3D/apple/220_23188_47084/images/frame000062.jpg',\n",
       " '../dataset/CO3D/apple/220_23188_47084/images/frame000058.jpg']"
      ]
     },
     "metadata": {},
     "execution_count": 149
    }
   ],
   "metadata": {}
  },
  {
   "cell_type": "code",
   "execution_count": 154,
   "source": [
    "m_datasets[\"test\"].__getitem__(2).image_path"
   ],
   "outputs": [
    {
     "output_type": "execute_result",
     "data": {
      "text/plain": [
       "'../dataset/CO3D/apple/12_90_489/images/frame000003.jpg'"
      ]
     },
     "metadata": {},
     "execution_count": 154
    }
   ],
   "metadata": {}
  },
  {
   "cell_type": "code",
   "execution_count": 86,
   "source": [
    "val_frame = next(iter(val_loader))\n",
    "\n",
    "val_frame.image_path"
   ],
   "outputs": [
    {
     "output_type": "execute_result",
     "data": {
      "text/plain": [
       "['../dataset/CO3D/apple/43_2208_6595/images/frame000064.jpg',\n",
       " '../dataset/CO3D/apple/43_2208_6595/images/frame000069.jpg',\n",
       " '../dataset/CO3D/apple/43_2208_6595/images/frame000083.jpg',\n",
       " '../dataset/CO3D/apple/43_2208_6595/images/frame000095.jpg',\n",
       " '../dataset/CO3D/apple/43_2208_6595/images/frame000061.jpg',\n",
       " '../dataset/CO3D/apple/151_16774_32223/images/frame000005.jpg',\n",
       " '../dataset/CO3D/apple/151_16774_32223/images/frame000060.jpg',\n",
       " '../dataset/CO3D/apple/151_16774_32223/images/frame000028.jpg',\n",
       " '../dataset/CO3D/apple/151_16774_32223/images/frame000087.jpg',\n",
       " '../dataset/CO3D/apple/151_16774_32223/images/frame000001.jpg']"
      ]
     },
     "metadata": {},
     "execution_count": 86
    }
   ],
   "metadata": {}
  },
  {
   "cell_type": "code",
   "execution_count": null,
   "source": [],
   "outputs": [],
   "metadata": {}
  },
  {
   "cell_type": "code",
   "execution_count": 5,
   "source": [
    "import json"
   ],
   "outputs": [],
   "metadata": {}
  },
  {
   "cell_type": "code",
   "execution_count": 64,
   "source": [
    "set_lists_file = \"../dataset/CO3D/apple/set_lists.json\"\n",
    "single_batch_file = \"../dataset/CO3D/apple/eval_batches_singlesequence.json\"\n",
    "multi_batch_file = \"../dataset/CO3D/apple/eval_batches_multisequence.json\"\n",
    "\n",
    "with open(set_lists_file, 'r') as f:\n",
    "    set_lists = json.load(f)\n",
    "\n",
    "with open(single_batch_file, 'r') as f:\n",
    "    single_batch = json.load(f)\n",
    "\n",
    "with open(multi_batch_file, 'r') as f:\n",
    "    multi_batch = json.load(f)"
   ],
   "outputs": [],
   "metadata": {}
  },
  {
   "cell_type": "code",
   "execution_count": 65,
   "source": [
    "print(type(set_lists), set_lists.keys())\n",
    "\n",
    "print(type(multi_batch), len(multi_batch))\n",
    "\n",
    "print(type(single_batch), len(single_batch))"
   ],
   "outputs": [
    {
     "output_type": "stream",
     "name": "stdout",
     "text": [
      "<class 'dict'> dict_keys(['train_known', 'train_unseen', 'test_known', 'test_unseen'])\n",
      "<class 'list'> 1000\n",
      "<class 'list'> 200\n"
     ]
    }
   ],
   "metadata": {}
  },
  {
   "cell_type": "code",
   "execution_count": 66,
   "source": [
    "print(type(single_batch), type(multi_batch))"
   ],
   "outputs": [
    {
     "output_type": "stream",
     "name": "stdout",
     "text": [
      "<class 'list'> <class 'list'>\n"
     ]
    }
   ],
   "metadata": {}
  },
  {
   "cell_type": "code",
   "execution_count": 39,
   "source": [
    "from tqdm import tqdm"
   ],
   "outputs": [],
   "metadata": {}
  },
  {
   "cell_type": "code",
   "execution_count": 67,
   "source": [
    "train_known_seq_names = []\n",
    "for item in set_lists['train_known']:\n",
    "    seq_name = item[0]\n",
    "    train_known_seq_names.append(seq_name)\n",
    "print(len(train_known_seq_names))\n",
    "train_known_seq_names_uniq = list(set(train_known_seq_names))\n",
    "print(len(train_known_seq_names_uniq))\n",
    "\n",
    "train_unseen_seq_names = []\n",
    "for item in set_lists['train_unseen']:\n",
    "    seq_name = item[0]\n",
    "    train_unseen_seq_names.append(seq_name)\n",
    "print(len(train_unseen_seq_names))\n",
    "train_unseen_seq_names_uniq = list(set(train_unseen_seq_names))\n",
    "print(len(train_unseen_seq_names_uniq))\n",
    "\n",
    "\n",
    "for train_unseen_seq_name in tqdm(train_unseen_seq_names_uniq):\n",
    "    if train_unseen_seq_name not in train_known_seq_names_uniq:\n",
    "        print(\"known에는 없는 시퀀스가 unseen에 있음\")\n",
    "        break"
   ],
   "outputs": [
    {
     "output_type": "stream",
     "name": "stdout",
     "text": [
      "25841\n",
      "356\n",
      "6692\n",
      "356\n"
     ]
    },
    {
     "output_type": "stream",
     "name": "stderr",
     "text": [
      "100%|██████████| 356/356 [00:00<00:00, 127523.46it/s]\n"
     ]
    }
   ],
   "metadata": {}
  },
  {
   "cell_type": "code",
   "execution_count": 68,
   "source": [
    "sorted(train_unseen_seq_names_uniq) == sorted(train_known_seq_names_uniq)"
   ],
   "outputs": [
    {
     "output_type": "execute_result",
     "data": {
      "text/plain": [
       "True"
      ]
     },
     "metadata": {},
     "execution_count": 68
    }
   ],
   "metadata": {}
  },
  {
   "cell_type": "code",
   "execution_count": 69,
   "source": [
    "train_known_seq_names = []\n",
    "for item in set_lists['train_known']:\n",
    "    seq_name = item[0]\n",
    "    train_known_seq_names.append(seq_name)\n",
    "print(len(train_known_seq_names))\n",
    "train_known_seq_names_uniq = list(set(train_known_seq_names))\n",
    "print(len(train_known_seq_names_uniq))\n",
    "\n",
    "test_known_seq_names = []\n",
    "for item in set_lists['test_known']:\n",
    "    seq_name = item[0]\n",
    "    test_known_seq_names.append(seq_name)\n",
    "print(len(test_known_seq_names))\n",
    "test_known_seq_names_uniq = list(set(test_known_seq_names))\n",
    "print(len(test_known_seq_names_uniq))\n",
    "\n",
    "\n",
    "for test_known_seq_name in tqdm(test_known_seq_names_uniq):\n",
    "    if test_known_seq_name in train_known_seq_names_uniq:\n",
    "        print(\"test에 있는 시퀀스가 train에도 있음\")\n",
    "        break"
   ],
   "outputs": [
    {
     "output_type": "stream",
     "name": "stdout",
     "text": [
      "25841\n",
      "356\n",
      "3207\n",
      "40\n"
     ]
    },
    {
     "output_type": "stream",
     "name": "stderr",
     "text": [
      "100%|██████████| 40/40 [00:00<00:00, 49622.05it/s]\n"
     ]
    }
   ],
   "metadata": {}
  },
  {
   "cell_type": "code",
   "execution_count": 70,
   "source": [
    "print(sorted(train_known_seq_names_uniq)[:10])"
   ],
   "outputs": [
    {
     "output_type": "stream",
     "name": "stdout",
     "text": [
      "['103_12148_21353', '110_13052_23173', '110_13053_23637', '110_13054_23182', '110_13057_23420', '110_13060_23672', '110_13064_25256', '120_14059_28189', '120_14065_29048', '120_14067_29180']\n"
     ]
    }
   ],
   "metadata": {}
  },
  {
   "cell_type": "code",
   "execution_count": 71,
   "source": [
    "print(sorted(test_known_seq_names_uniq)[:10])"
   ],
   "outputs": [
    {
     "output_type": "stream",
     "name": "stdout",
     "text": [
      "['110_13051_23361', '12_104_640', '151_16771_32072', '189_20388_37651', '189_20393_38136', '198_21279_40528', '198_21290_41362', '198_21306_44492', '210_22202_46172', '210_22216_46396']\n"
     ]
    }
   ],
   "metadata": {}
  },
  {
   "cell_type": "code",
   "execution_count": 102,
   "source": [
    "print(single_batch[0])\n",
    "print()\n",
    "print(single_batch[100])"
   ],
   "outputs": [
    {
     "output_type": "stream",
     "name": "stdout",
     "text": [
      "[['189_20393_38136', 92, 'apple/189_20393_38136/images/frame000093.jpg'], ['189_20393_38136', 100, 'apple/189_20393_38136/images/frame000101.jpg'], ['189_20393_38136', 34, 'apple/189_20393_38136/images/frame000035.jpg'], ['189_20393_38136', 61, 'apple/189_20393_38136/images/frame000062.jpg'], ['189_20393_38136', 32, 'apple/189_20393_38136/images/frame000033.jpg'], ['189_20393_38136', 11, 'apple/189_20393_38136/images/frame000012.jpg'], ['189_20393_38136', 78, 'apple/189_20393_38136/images/frame000079.jpg'], ['189_20393_38136', 15, 'apple/189_20393_38136/images/frame000016.jpg'], ['189_20393_38136', 19, 'apple/189_20393_38136/images/frame000020.jpg'], ['189_20393_38136', 65, 'apple/189_20393_38136/images/frame000066.jpg']]\n",
      "\n",
      "[['110_13051_23361', 26, 'apple/110_13051_23361/images/frame000027.jpg'], ['110_13051_23361', 40, 'apple/110_13051_23361/images/frame000041.jpg'], ['110_13051_23361', 18, 'apple/110_13051_23361/images/frame000019.jpg'], ['110_13051_23361', 42, 'apple/110_13051_23361/images/frame000043.jpg'], ['110_13051_23361', 17, 'apple/110_13051_23361/images/frame000018.jpg'], ['110_13051_23361', 98, 'apple/110_13051_23361/images/frame000099.jpg'], ['110_13051_23361', 93, 'apple/110_13051_23361/images/frame000094.jpg'], ['110_13051_23361', 31, 'apple/110_13051_23361/images/frame000032.jpg'], ['110_13051_23361', 61, 'apple/110_13051_23361/images/frame000062.jpg'], ['110_13051_23361', 41, 'apple/110_13051_23361/images/frame000042.jpg']]\n"
     ]
    }
   ],
   "metadata": {}
  },
  {
   "cell_type": "code",
   "execution_count": 104,
   "source": [
    "print(\"189_20393_38136\" in test_known_seq_names_uniq)\n",
    "print(\"110_13051_23361\" in test_known_seq_names_uniq)"
   ],
   "outputs": [
    {
     "output_type": "stream",
     "name": "stdout",
     "text": [
      "True\n",
      "True\n"
     ]
    }
   ],
   "metadata": {}
  },
  {
   "cell_type": "code",
   "execution_count": 99,
   "source": [
    "multi_batch[0]\n",
    "\n",
    "multi_batch_seq_names = []\n",
    "for multi_batch_seq_item in multi_batch:\n",
    "    for item in multi_batch_seq_item:\n",
    "        seq_name = item[0]\n",
    "        multi_batch_seq_names.append(seq_name)\n",
    "print(len(multi_batch_seq_names))\n",
    "multi_batch_seq_names_uniq = list(set(multi_batch_seq_names))\n",
    "print(len(multi_batch_seq_names_uniq))\n",
    "\n",
    "\n",
    "for multi_batch_seq_name in tqdm(multi_batch_seq_names_uniq):\n",
    "    if multi_batch_seq_name not in train_known_seq_names_uniq:\n",
    "        print(\"배치 시퀀스 중에 train 시퀀스에 없는 것도 있음\")\n",
    "        break"
   ],
   "outputs": [
    {
     "output_type": "stream",
     "name": "stdout",
     "text": [
      "5986\n",
      "140\n"
     ]
    },
    {
     "output_type": "stream",
     "name": "stderr",
     "text": [
      "  4%|▍         | 6/140 [00:00<00:00, 8981.38it/s]"
     ]
    },
    {
     "output_type": "stream",
     "name": "stdout",
     "text": [
      "배치 시퀀스 중에 train 시퀀스에 없는 것도 있음\n"
     ]
    },
    {
     "output_type": "stream",
     "name": "stderr",
     "text": [
      "\n"
     ]
    }
   ],
   "metadata": {}
  },
  {
   "cell_type": "code",
   "execution_count": 106,
   "source": [
    "print(multi_batch_seq_names_uniq[5] in train_known_seq_names_uniq)\n",
    "print(multi_batch_seq_names_uniq[6] in train_known_seq_names_uniq)"
   ],
   "outputs": [
    {
     "output_type": "stream",
     "name": "stdout",
     "text": [
      "True\n",
      "False\n"
     ]
    }
   ],
   "metadata": {}
  },
  {
   "cell_type": "code",
   "execution_count": null,
   "source": [],
   "outputs": [],
   "metadata": {}
  }
 ],
 "metadata": {
  "orig_nbformat": 4,
  "language_info": {
   "name": "python",
   "version": "3.8.12",
   "mimetype": "text/x-python",
   "codemirror_mode": {
    "name": "ipython",
    "version": 3
   },
   "pygments_lexer": "ipython3",
   "nbconvert_exporter": "python",
   "file_extension": ".py"
  },
  "kernelspec": {
   "name": "python3",
   "display_name": "Python 3.8.12 64-bit ('pytorch3d': conda)"
  },
  "interpreter": {
   "hash": "6899858ec4b8e60ed4a600bdd06e23c0a3ce7db43a44c95b45a2fef6e40f9d47"
  }
 },
 "nbformat": 4,
 "nbformat_minor": 2
}